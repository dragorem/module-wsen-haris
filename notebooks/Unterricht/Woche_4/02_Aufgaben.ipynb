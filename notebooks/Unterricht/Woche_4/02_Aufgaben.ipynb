{
 "cells": [
  {
   "cell_type": "markdown",
   "metadata": {},
   "source": [
    "# 1. \n",
    "Betrachte folgenden `while`-Loop:\n",
    "\n",
    "```python\n",
    "i = 5\n",
    "while i < 15:\n",
    "    i = i + 2\n",
    "    if i != 11:\n",
    "        print(i)\n",
    "\n",
    "```\n",
    "\n",
    "- a) Schreibe den `while`-Loop als `for`-Loop um\n",
    "- b) Schreibe die Logik so um, dass `continue` verwendet wird.\n"
   ]
  },
  {
   "cell_type": "code",
   "execution_count": null,
   "metadata": {},
   "outputs": [
    {
     "data": {
      "text/plain": [
       "2"
      ]
     },
     "execution_count": 9,
     "metadata": {},
     "output_type": "execute_result"
    }
   ],
   "source": []
  },
  {
   "cell_type": "markdown",
   "metadata": {},
   "source": [
    "# 2.\n",
    "\n",
    "Schreibe ein Programm, welches nach einer Zahl `n` fragt, und dann den Wert von `n! = (n * (n-1) * (n-2) * ... * 2 * 1)` zurückgibt.\n",
    "<br>\n",
    "Beispiel:\n",
    "`3! = 3 * 2 * 1 = 6` \n"
   ]
  },
  {
   "cell_type": "code",
   "execution_count": null,
   "metadata": {},
   "outputs": [],
   "source": []
  },
  {
   "cell_type": "markdown",
   "metadata": {},
   "source": [
    "# 3. \n",
    "Schreibe ein Programm, welche den Benutzer nach einer Zahl fragt. Anschliessend zeigt das Programm alle Quadratzahlen an, welche kleiner als die eingegebene Zahl sind.\n",
    "\n",
    "Beispiel:\n",
    "\n",
    "Ausgabe:\n",
    "\n",
    "`Gib eine Zahl ein:`\n",
    "\n",
    "Eingabe: \n",
    "\n",
    "`10`\n",
    "\n",
    "Ausgabe: \n",
    "```\n",
    "1 x 1 = 1\n",
    "2 x 2 = 4\n",
    "3 x 3 = 9\n",
    "```"
   ]
  },
  {
   "cell_type": "code",
   "execution_count": null,
   "metadata": {},
   "outputs": [],
   "source": []
  },
  {
   "cell_type": "markdown",
   "metadata": {},
   "source": [
    "# 4.\n",
    "\n",
    "Schreibe ein Programm, welches nach einer Zahl fragt, und anschliessend die Quersumme dieser Zahl zurückgibt. Die Quersumme besteht aus der Summe aller Ziffern einer Zahl. Beispiel:\n",
    "\n",
    "- Die Quersumme von `83` ist `8 + 3 = 11`\n",
    "- Die Quersumme von `2519` ist `2 + 5 + 1 + 9 = 17`"
   ]
  },
  {
   "cell_type": "code",
   "execution_count": null,
   "metadata": {},
   "outputs": [],
   "source": []
  },
  {
   "cell_type": "markdown",
   "metadata": {},
   "source": [
    "# 5.\n",
    "\n",
    "Schreibe ein Programm, welches das kleine 1x1 für die Zahlen von 1 bis 10 zurückgibt.\n",
    "\n",
    "Das Resultat sollte wie folgt aussehen:<br>\n",
    "`1 x 1 = 1` <br>\n",
    "`1 x 2 = 2` <br>\n",
    "... <br>\n",
    "`2 x 1 = 2` <br>\n",
    "`2 x 2 = 4` <br>\n",
    "`2 x 3 = 6` <br>\n",
    "... <br>\n",
    "`10 x 9 = 90` <br>\n",
    "`10 x 10 = 100` <br>"
   ]
  },
  {
   "cell_type": "code",
   "execution_count": null,
   "metadata": {},
   "outputs": [],
   "source": []
  },
  {
   "cell_type": "markdown",
   "metadata": {},
   "source": [
    "# 6.\n",
    "\n",
    "Zahlen können sehr sensible Daten enthalten. \n",
    "\n",
    "Schreibe deshalb ein Programm, welches aus einem Text automatisch alle Zahlen rauslöscht. Dies machen wir, indem wir jede Ziffer mit einem X ersetzen. \n",
    "\n",
    "Beispiel:\n",
    "\n",
    "```\n",
    "Wir verfügen über ein Vermögen von CHF 8'230'521.23\n",
    "Wir verfügen über ein Vermögen von CHF X'XXX'XXX.XX\n",
    "```\n",
    "\n",
    "Oder:\n",
    "```\n",
    "Wir verkaufen die Aktie am 23.09.\n",
    "Wir verkaufen die Aktie am XX.XX.\n",
    "```\n"
   ]
  },
  {
   "cell_type": "code",
   "execution_count": null,
   "metadata": {},
   "outputs": [],
   "source": []
  }
 ],
 "metadata": {
  "kernelspec": {
   "display_name": "Python 3",
   "language": "python",
   "name": "python3"
  },
  "language_info": {
   "codemirror_mode": {
    "name": "ipython",
    "version": 3
   },
   "file_extension": ".py",
   "mimetype": "text/x-python",
   "name": "python",
   "nbconvert_exporter": "python",
   "pygments_lexer": "ipython3",
   "version": "3.13.7"
  },
  "orig_nbformat": 4
 },
 "nbformat": 4,
 "nbformat_minor": 2
}
