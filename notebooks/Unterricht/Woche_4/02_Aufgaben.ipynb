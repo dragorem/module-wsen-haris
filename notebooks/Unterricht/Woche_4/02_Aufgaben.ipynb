{
 "cells": [
  {
   "cell_type": "markdown",
   "metadata": {},
   "source": [
    "# 1. \n",
    "Betrachte folgenden `while`-Loop:\n",
    "\n",
    "```python\n",
    "i = 5\n",
    "while i < 15:\n",
    "    i = i + 2\n",
    "    if i != 11:\n",
    "        print(i)\n",
    "\n",
    "```\n",
    "\n",
    "- a) Schreibe den `while`-Loop als `for`-Loop um\n",
    "- b) Schreibe die Logik so um, dass `continue` verwendet wird.\n"
   ]
  },
  {
   "cell_type": "code",
   "execution_count": 18,
   "metadata": {},
   "outputs": [
    {
     "name": "stdout",
     "output_type": "stream",
     "text": [
      "7\n",
      "9\n",
      "13\n",
      "15\n"
     ]
    }
   ],
   "source": [
    "for i in range(7,17,2):\n",
    "    if i == 11:\n",
    "        continue\n",
    "    print(i)"
   ]
  },
  {
   "cell_type": "markdown",
   "metadata": {},
   "source": [
    "# 2.\n",
    "\n",
    "Schreibe ein Programm, welches nach einer Zahl `n` fragt, und dann den Wert von `n! = (n * (n-1) * (n-2) * ... * 2 * 1)` zurückgibt.\n",
    "<br>\n",
    "Beispiel:\n",
    "`3! = 3 * 2 * 1 = 6` \n"
   ]
  },
  {
   "cell_type": "code",
   "execution_count": 5,
   "metadata": {},
   "outputs": [
    {
     "name": "stdout",
     "output_type": "stream",
     "text": [
      "24\n"
     ]
    }
   ],
   "source": [
    "start_number = int(input(\"Welche Zahl?\"))\n",
    "result = 1\n",
    "while start_number > 0:\n",
    "    result *= start_number \n",
    "    start_number -= 1\n",
    "\n",
    "print(result)"
   ]
  },
  {
   "cell_type": "markdown",
   "metadata": {},
   "source": [
    "# 3. \n",
    "Schreibe ein Programm, welche den Benutzer nach einer Zahl fragt. Anschliessend zeigt das Programm alle Quadratzahlen an, welche kleiner als die eingegebene Zahl sind.\n",
    "\n",
    "Beispiel:\n",
    "\n",
    "Ausgabe:\n",
    "\n",
    "`Gib eine Zahl ein:`\n",
    "\n",
    "Eingabe: \n",
    "\n",
    "`10`\n",
    "\n",
    "Ausgabe: \n",
    "```\n",
    "1 x 1 = 1\n",
    "2 x 2 = 4\n",
    "3 x 3 = 9\n",
    "```"
   ]
  },
  {
   "cell_type": "code",
   "execution_count": 7,
   "metadata": {},
   "outputs": [
    {
     "name": "stdout",
     "output_type": "stream",
     "text": [
      "1 x 1 = 1\n",
      "2 x 2 = 4\n",
      "3 x 3 = 9\n",
      "4 x 4 = 16\n",
      "5 x 5 = 25\n",
      "6 x 6 = 36\n",
      "7 x 7 = 49\n",
      "8 x 8 = 64\n",
      "9 x 9 = 81\n"
     ]
    }
   ],
   "source": [
    "upper_limit = int(input(\"Gib eine Zahl ein\"))\n",
    "start = 1\n",
    "\n",
    "while start * start <= upper_limit:\n",
    "    print(start, \"x\", start, \"=\", start*start)\n",
    "    start +=1\n"
   ]
  },
  {
   "cell_type": "markdown",
   "metadata": {},
   "source": [
    "# 4.\n",
    "\n",
    "Schreibe ein Programm, welches nach einer Zahl fragt, und anschliessend die Quersumme dieser Zahl zurückgibt. Die Quersumme besteht aus der Summe aller Ziffern einer Zahl. Beispiel:\n",
    "\n",
    "- Die Quersumme von `83` ist `8 + 3 = 11`\n",
    "- Die Quersumme von `2519` ist `2 + 5 + 1 + 9 = 17`"
   ]
  },
  {
   "cell_type": "code",
   "execution_count": 11,
   "metadata": {},
   "outputs": [
    {
     "name": "stdout",
     "output_type": "stream",
     "text": [
      "8\n"
     ]
    }
   ],
   "source": [
    "zahl = int(input(\"Gib eine Zahl ein\"))\n",
    "resultat = 0\n",
    "for ziffer in str(zahl):\n",
    "    resultat = resultat+int(ziffer)\n",
    "\n",
    "print(resultat)"
   ]
  },
  {
   "cell_type": "markdown",
   "metadata": {},
   "source": [
    "# 5.\n",
    "\n",
    "Schreibe ein Programm, welches das kleine 1x1 für die Zahlen von 1 bis 10 zurückgibt.\n",
    "\n",
    "Das Resultat sollte wie folgt aussehen:<br>\n",
    "`1 x 1 = 1` <br>\n",
    "`1 x 2 = 2` <br>\n",
    "... <br>\n",
    "`2 x 1 = 2` <br>\n",
    "`2 x 2 = 4` <br>\n",
    "`2 x 3 = 6` <br>\n",
    "... <br>\n",
    "`10 x 9 = 90` <br>\n",
    "`10 x 10 = 100` <br>"
   ]
  },
  {
   "cell_type": "code",
   "execution_count": 12,
   "metadata": {},
   "outputs": [
    {
     "name": "stdout",
     "output_type": "stream",
     "text": [
      "1 x 1 = 1\n",
      "2 x 2 = 4\n",
      "3 x 3 = 9\n",
      "4 x 4 = 16\n",
      "5 x 5 = 25\n",
      "6 x 6 = 36\n",
      "7 x 7 = 49\n",
      "8 x 8 = 64\n",
      "9 x 9 = 81\n",
      "10 x 10 = 100\n"
     ]
    }
   ],
   "source": [
    "start_number_till_ten = 1\n",
    "\n",
    "while start_number_till_ten <= 10:\n",
    "    print(start_number_till_ten, \"x\", start_number_till_ten, \"=\", start_number_till_ten*start_number_till_ten)\n",
    "    start_number_till_ten +=1"
   ]
  },
  {
   "cell_type": "markdown",
   "metadata": {},
   "source": [
    "# 6.\n",
    "\n",
    "Zahlen können sehr sensible Daten enthalten. \n",
    "\n",
    "Schreibe deshalb ein Programm, welches aus einem Text automatisch alle Zahlen rauslöscht. Dies machen wir, indem wir jede Ziffer mit einem X ersetzen. \n",
    "\n",
    "Beispiel:\n",
    "\n",
    "```\n",
    "Wir verfügen über ein Vermögen von CHF 8'230'521.23\n",
    "Wir verfügen über ein Vermögen von CHF X'XXX'XXX.XX\n",
    "```\n",
    "\n",
    "Oder:\n",
    "```\n",
    "Wir verkaufen die Aktie am 23.09.\n",
    "Wir verkaufen die Aktie am XX.XX.\n",
    "```\n"
   ]
  },
  {
   "cell_type": "code",
   "execution_count": 17,
   "metadata": {},
   "outputs": [
    {
     "name": "stdout",
     "output_type": "stream",
     "text": [
      "Wir verfügen über ein Vermögen von CHF X'XXX'XXX.XX\n"
     ]
    }
   ],
   "source": [
    "def isANumber(digit):\n",
    "    if digit in \"0123456789\":\n",
    "        return \"X\"\n",
    "    else:\n",
    "        return digit\n",
    "    \n",
    "text = \"Wir verfügen über ein Vermögen von CHF 8'230'521.23\"\n",
    "\n",
    "neuer_text = \"\"\n",
    "\n",
    "for digit in text:\n",
    "    neuer_text += isANumber(digit)\n",
    "\n",
    "\n",
    "print(neuer_text)"
   ]
  }
 ],
 "metadata": {
  "kernelspec": {
   "display_name": "Python 3",
   "language": "python",
   "name": "python3"
  },
  "language_info": {
   "codemirror_mode": {
    "name": "ipython",
    "version": 3
   },
   "file_extension": ".py",
   "mimetype": "text/x-python",
   "name": "python",
   "nbconvert_exporter": "python",
   "pygments_lexer": "ipython3",
   "version": "3.13.7"
  },
  "orig_nbformat": 4
 },
 "nbformat": 4,
 "nbformat_minor": 2
}
