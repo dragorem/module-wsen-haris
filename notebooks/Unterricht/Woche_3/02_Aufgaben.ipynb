{
 "cells": [
  {
   "cell_type": "markdown",
   "metadata": {},
   "source": [
    "# 1. Reisezeit\n",
    "\n",
    "Basierend auf Transportmethode braucht es mehr oder weniger Zeit um eine Strecke zurückzulegen.\n",
    "In diesem Programm soll der Benutzer die Transportmethode und die Strecke eingeben.\n",
    "Als Ausgabe soll die Reisezeit in Stunden und Minuten ausgegeben werden.\n",
    "\n",
    "| Transportmethode | Geschwindigkeit in km/h |\n",
    "|------------------|-------------------------|\n",
    "| Gehen (walk)             | 5                     |\n",
    "| Fahrrad (bike)              | 15                    |\n",
    "| Auto (car)             | 50                    |\n",
    "| Zug (train)              | 70                    |\n"
   ]
  },
  {
   "cell_type": "code",
   "execution_count": 7,
   "metadata": {},
   "outputs": [
    {
     "name": "stdout",
     "output_type": "stream",
     "text": [
      "Methode nicht gefunden\n"
     ]
    }
   ],
   "source": [
    "# YOUR CODE HERE\n",
    "\n",
    "gehen = 5\n",
    "fahrrad = 15\n",
    "auto = 50\n",
    "zug = 70\n",
    "\n",
    "methode=input(\"Wie möchten Sie reisen?\")\n",
    "strecke=int(input(\"Wie weit reisen Sie in km?\"))\n",
    "\n",
    "if methode == \"gehen\":\n",
    "    zeit_in_stunden = strecke // gehen\n",
    "    zeit_minuten = ((strecke % gehen) / gehen) * 60\n",
    "    print (str(zeit_in_stunden), \"Stunden und\", str(zeit_minuten), \"Minuten\") \n",
    "elif methode == \"fahrrad\":\n",
    "    zeit_in_stunden = strecke // fahrrad\n",
    "    zeit_minuten = ((strecke % fahrrad) / fahrrad) * 60\n",
    "    print (str(zeit_in_stunden), \"Stunden und\", str(zeit_minuten), \"Minuten\")\n",
    "elif methode == \"auto\":\n",
    "    zeit_in_stunden = strecke // auto\n",
    "    zeit_minuten = ((strecke % auto) / auto) * 60\n",
    "    print (str(zeit_in_stunden), \"Stunden und\", str(zeit_minuten), \"Minuten\")  \n",
    "elif methode == \"zug\":\n",
    "    zeit_in_stunden = strecke // zug\n",
    "    zeit_minuten = ((strecke % zug) / zug) * 60\n",
    "    print (str(zeit_in_stunden), \"Stunden und\", str(zeit_minuten), \"Minuten\") \n",
    "else:\n",
    "    print(\"Methode nicht gefunden\")\n"
   ]
  },
  {
   "cell_type": "markdown",
   "metadata": {},
   "source": [
    "# 2. Geldautomat \n",
    "## Einführung\n",
    "Bei dieser Aufgabe formulieren Sie verschiedene Berechnungsanweisungen abhängig von\n",
    "einer Benutzereingabe. Dabei kommen zwei verschiedene Divisions-Operationen zum Einsatz.\n",
    "\n",
    "## Aufgabenstellung\n",
    "In dieser Aufgabe sollen Sie einen Geldautomaten simulieren. Die Kundin oder der Kunde\n",
    "soll eingeben können, wie viel Geld er oder sie abheben möchte. Der Geldautomat soll\n",
    "dann berechnen, wie viele und welche Banknoten (100er, 50er, 20er und 10er) er ausgeben\n",
    "soll. Die Anzahl der verwendeten Variablen soll möglichst klein gehalten werden, indem\n",
    "sie wiederverwendet werden.\n",
    "So könnte beispielsweise die Ausgabe für den Betrag 571 aussehen:\n",
    "```\n",
    "WILLKOMMEN BEI DER BANK IHRES VERTRAUENS\n",
    "****************************************\n",
    "Wie viel möchten Sie abheben? 571\n",
    "Eingegebener Geldbetrag: 571 Fr.\n",
    "Bitte warten...\n",
    "Sie haben erhalten:\n",
    "100er 5\n",
    "50er 1\n",
    "20er 1\n",
    "10er 0\n",
    "Rest: 1\n",
    "```"
   ]
  },
  {
   "cell_type": "markdown",
   "metadata": {},
   "source": [
    "### Zwischenschritte\n",
    "Erstellen Sie eine Benutzereingabe für einen beliebigen Geldbetrag und speichern\n",
    "Sie den Wert in einer Variable. (Hinweis: Beachten Sie den Datentyp und die Namenskonventionen für Variablen (beschreibend, keine Leerzeichen, mit Buchstaben beginnend etc.).)"
   ]
  },
  {
   "cell_type": "code",
   "execution_count": 27,
   "metadata": {},
   "outputs": [],
   "source": [
    "### YOUR CODE HERE\n",
    "geldbetrag = int(input(\"Wie viel möchten Sie abheben?\"))"
   ]
  },
  {
   "cell_type": "markdown",
   "metadata": {},
   "source": [
    "Geben Sie den eingegebenen Betrag auf der Konsole aus."
   ]
  },
  {
   "cell_type": "code",
   "execution_count": 28,
   "metadata": {},
   "outputs": [
    {
     "name": "stdout",
     "output_type": "stream",
     "text": [
      "Eingegebener Geldbetrag:  547\n"
     ]
    }
   ],
   "source": [
    "### YOUR CODE HERE\n",
    "print(\"Eingegebener Geldbetrag: \",geldbetrag)"
   ]
  },
  {
   "cell_type": "markdown",
   "metadata": {},
   "source": [
    "Berechnen Sie, wie viele 100er-Noten ausgegeben werden müssen. (Hinweis: Verwenden Sie den Divisions-Operator.)"
   ]
  },
  {
   "cell_type": "code",
   "execution_count": 29,
   "metadata": {},
   "outputs": [],
   "source": [
    "### YOUR CODE HERE\n",
    "hunderter = int(geldbetrag / 100)\n"
   ]
  },
  {
   "cell_type": "markdown",
   "metadata": {},
   "source": [
    "Berechnen Sie den Restbetrag, der nach der Ausgabe der 100er-Noten übrig bleibt."
   ]
  },
  {
   "cell_type": "code",
   "execution_count": 30,
   "metadata": {},
   "outputs": [],
   "source": [
    "### YOUR CODE HERE\n",
    "geldbetrag = geldbetrag-hunderter * 100"
   ]
  },
  {
   "cell_type": "markdown",
   "metadata": {},
   "source": [
    "Berechnen Sie analog die Anzahl der 50er-, 20er- und 10er-Noten und geben Sie die Resultate auf der Konsole aus. (Hinweis: Kopieren Sie die Berechnungen für die 100er-Noten und passen Sie sie an.)"
   ]
  },
  {
   "cell_type": "code",
   "execution_count": 31,
   "metadata": {},
   "outputs": [
    {
     "name": "stdout",
     "output_type": "stream",
     "text": [
      " \n",
      "Bitte warten...\n",
      "Sie haben erhalten:\n",
      "100er\n",
      " 5\n",
      "50er  0\n",
      "20er  2\n",
      "10er  0\n",
      "Rest:  7\n"
     ]
    }
   ],
   "source": [
    "### YOUR CODE HERE\n",
    "fuenfziger = geldbetrag // 50\n",
    "geldbetrag = geldbetrag-fuenfziger * 50\n",
    "\n",
    "zwanziger = geldbetrag // 20\n",
    "geldbetrag = geldbetrag-zwanziger * 20\n",
    "\n",
    "zehner = geldbetrag // 10\n",
    "geldbetrag = geldbetrag-zehner * 10\n",
    "\n",
    "print(\"\"\" \n",
    "Bitte warten...\n",
    "Sie haben erhalten:\n",
    "100er\n",
    "\"\"\", hunderter)\n",
    "print(\"50er \", fuenfziger)\n",
    "print(\"20er \", zwanziger)\n",
    "print(\"10er \", zehner)\n",
    "print(\"Rest: \", geldbetrag)"
   ]
  },
  {
   "cell_type": "markdown",
   "metadata": {},
   "source": [
    "### Erweiterungen\n",
    "**Hinweis**: Für diese Erweiterungen benötigen Sie *Bedingungsprüfungen*\n",
    "**Hinweis**: Ändern Sie obenstehend die entsprechenden Codeblocks"
   ]
  },
  {
   "cell_type": "markdown",
   "metadata": {},
   "source": [
    "- Überprüfen Sie nach der Eingabe des Geldbetrags, ob abgerundet werden muss und informieren Sie den Kunden über den tatsächlich ausgezahlten Betrag.\n",
    "- Lassen Sie nur Banknotenarten ausgeben, die auch wirklich benötigt werden. "
   ]
  },
  {
   "cell_type": "markdown",
   "metadata": {},
   "source": [
    "# 3. Taschenrechner\n",
    "\n",
    "Schreibe einen Taschenrechner, mit folgenden Eigenschaften:\n",
    "\n",
    "- Er fragt nach der ersten Zahl\n",
    "- Dann nach dem Operator (also +, -, /, und *)\n",
    "- Dann nach der zweiten Zahl\n",
    "- Anschliessend berechnet er das Resultat\n"
   ]
  },
  {
   "cell_type": "markdown",
   "metadata": {},
   "source": []
  },
  {
   "cell_type": "code",
   "execution_count": 32,
   "metadata": {},
   "outputs": [
    {
     "name": "stdout",
     "output_type": "stream",
     "text": [
      "Ihr Resultat: \n",
      "53.0\n"
     ]
    }
   ],
   "source": [
    "erste_zahl = float(input(\"Ihre erste Zahl\"))\n",
    "operator = input(\"Ihr operator (+, -, *, /)\")\n",
    "zweite_zahl = float(input(\"Ihre zweite Zahl\"))\n",
    "\n",
    "print(\"Ihr Resultat: \")\n",
    "\n",
    "if operator == '+':\n",
    "    print(erste_zahl + zweite_zahl)\n",
    "elif operator == '-':\n",
    "    print(erste_zahl - zweite_zahl)\n",
    "elif operator == '*':\n",
    "    print(erste_zahl * zweite_zahl)\n",
    "elif operator == '/':\n",
    "    print(erste_zahl / zweite_zahl)"
   ]
  }
 ],
 "metadata": {
  "kernelspec": {
   "display_name": "Python 3",
   "language": "python",
   "name": "python3"
  },
  "language_info": {
   "codemirror_mode": {
    "name": "ipython",
    "version": 3
   },
   "file_extension": ".py",
   "mimetype": "text/x-python",
   "name": "python",
   "nbconvert_exporter": "python",
   "pygments_lexer": "ipython3",
   "version": "3.13.7"
  },
  "orig_nbformat": 4
 },
 "nbformat": 4,
 "nbformat_minor": 2
}
